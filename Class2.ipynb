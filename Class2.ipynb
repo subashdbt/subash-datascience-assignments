{
 "cells": [
  {
   "cell_type": "code",
   "execution_count": 2,
   "id": "b3b6ded0-308a-46b2-aff6-077bf69461ab",
   "metadata": {},
   "outputs": [
    {
     "name": "stdin",
     "output_type": "stream",
     "text": [
      "Enter your age: 29\n"
     ]
    },
    {
     "name": "stdout",
     "output_type": "stream",
     "text": [
      "Your age is: 29\n"
     ]
    }
   ],
   "source": [
    "#f string\n",
    "age=int(input(\"Enter your age:\"))\n",
    "print(f\"Your age is: {age}\")"
   ]
  },
  {
   "cell_type": "code",
   "execution_count": 5,
   "id": "dcf30c29-56b5-4b6a-b549-b54afa5c181f",
   "metadata": {},
   "outputs": [
    {
     "name": "stdin",
     "output_type": "stream",
     "text": [
      "Enter your name: Subash\n"
     ]
    },
    {
     "name": "stdout",
     "output_type": "stream",
     "text": [
      "Subash is 29 years old\n"
     ]
    }
   ],
   "source": [
    "#format\n",
    "name = input(\"Enter your name:\")\n",
    "print(\"{} is {} years old\".format(name,age))"
   ]
  },
  {
   "cell_type": "code",
   "execution_count": 3,
   "id": "aae2dff7-d45a-4d93-87a9-d5addd225b14",
   "metadata": {},
   "outputs": [
    {
     "name": "stdin",
     "output_type": "stream",
     "text": [
      "Enter your name: Subash\n",
      "Enter your age: 30\n"
     ]
    },
    {
     "name": "stdout",
     "output_type": "stream",
     "text": [
      "Subash is 30 years old\n"
     ]
    }
   ],
   "source": [
    "#placeholder\n",
    "name = input(\"Enter your name:\")\n",
    "age = int(input(\"Enter your age:\"))\n",
    "print(\"{My_Name} is {My_Age} years old\".format(My_Name = name,My_Age = age))"
   ]
  },
  {
   "cell_type": "markdown",
   "id": "f7377968-adee-4040-a57a-641f4c24724d",
   "metadata": {},
   "source": [
    "## Control FLow\n",
    "### Decision Making Statement\n",
    "1. **if**\n",
    "2. **if else**\n",
    "3. **if elif else**\n",
    "4. **Nested if**\n",
    "5. **Single Statement Suites**"
   ]
  },
  {
   "cell_type": "code",
   "execution_count": 4,
   "id": "7ff6f545-4926-475c-8438-fca7c46f15e3",
   "metadata": {},
   "outputs": [
    {
     "name": "stdout",
     "output_type": "stream",
     "text": [
      "Major\n"
     ]
    }
   ],
   "source": [
    "# If Statements\n",
    "age = 18\n",
    "if age >= 18:\n",
    "    print('Major')"
   ]
  },
  {
   "cell_type": "code",
   "execution_count": 6,
   "id": "7f0cb545-e3b5-4d3b-a152-857b138fa428",
   "metadata": {},
   "outputs": [
    {
     "name": "stdout",
     "output_type": "stream",
     "text": [
      "Major\n"
     ]
    }
   ],
   "source": [
    "#If else\n",
    "age = 18\n",
    "if age >= 18:\n",
    "    print('Major')\n",
    "else:\n",
    "    print('Minor')"
   ]
  },
  {
   "cell_type": "code",
   "execution_count": 10,
   "id": "fce65922-827c-451a-a66c-91f552b40e41",
   "metadata": {},
   "outputs": [
    {
     "name": "stdout",
     "output_type": "stream",
     "text": [
      "Minor\n"
     ]
    }
   ],
   "source": [
    "#If else\n",
    "age = 11\n",
    "if age >= 18:\n",
    "    print('Major')\n",
    "elif age>=10:\n",
    "    print('Minor')\n",
    "else:\n",
    "    print('Child')"
   ]
  },
  {
   "cell_type": "code",
   "execution_count": 6,
   "id": "171d563a-6760-4420-ac6e-2ef462eafad7",
   "metadata": {},
   "outputs": [
    {
     "name": "stdin",
     "output_type": "stream",
     "text": [
      "Enter the product price 200\n"
     ]
    },
    {
     "name": "stdout",
     "output_type": "stream",
     "text": [
      "After discount price (40% off) is  120.0\n"
     ]
    }
   ],
   "source": [
    "prod_price = int(input(\"Enter the product price\"))\n",
    "if prod_price>3000:\n",
    "    print(\"After discount price (20% off) is \",prod_price*.8)\n",
    "elif prod_price >= 2000:\n",
    "    print(\"After discount price (30% off) is \",prod_price*.7)\n",
    "else:\n",
    "    print(\"After discount price (40% off) is \",prod_price*.6)"
   ]
  },
  {
   "cell_type": "code",
   "execution_count": null,
   "id": "859c088b-5da7-4eb8-b232-505e5ee6229d",
   "metadata": {},
   "outputs": [],
   "source": []
  }
 ],
 "metadata": {
  "kernelspec": {
   "display_name": "Python 3 (ipykernel)",
   "language": "python",
   "name": "python3"
  },
  "language_info": {
   "codemirror_mode": {
    "name": "ipython",
    "version": 3
   },
   "file_extension": ".py",
   "mimetype": "text/x-python",
   "name": "python",
   "nbconvert_exporter": "python",
   "pygments_lexer": "ipython3",
   "version": "3.10.8"
  }
 },
 "nbformat": 4,
 "nbformat_minor": 5
}
