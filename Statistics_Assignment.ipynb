{
  "nbformat": 4,
  "nbformat_minor": 0,
  "metadata": {
    "colab": {
      "provenance": [],
      "authorship_tag": "ABX9TyMz/UrB9NInM0AklZJ4plXC"
    },
    "kernelspec": {
      "name": "python3",
      "display_name": "Python 3"
    },
    "language_info": {
      "name": "python"
    }
  },
  "cells": [
    {
      "cell_type": "code",
      "execution_count": null,
      "metadata": {
        "id": "Vx7v9ZUg9rM-"
      },
      "outputs": [],
      "source": []
    },
    {
      "cell_type": "markdown",
      "source": [
        "**1. What is Statistics?**"
      ],
      "metadata": {
        "id": "Pqv_aADg9ubD"
      }
    },
    {
      "cell_type": "markdown",
      "source": [
        "Science of collecting, organizing and analyzing the data"
      ],
      "metadata": {
        "id": "e9Eb-fGP9ydy"
      }
    },
    {
      "cell_type": "markdown",
      "source": [
        "**2. Define the different types of statistics and give an example of when each type might be used.**"
      ],
      "metadata": {
        "id": "GJKSn25K9_fg"
      }
    },
    {
      "cell_type": "markdown",
      "source": [
        "*   Descriptive Stats\n",
        "*   Inferential Stats"
      ],
      "metadata": {
        "id": "5lRBZ-rt-CNo"
      }
    },
    {
      "cell_type": "markdown",
      "source": [
        "**3. What are the different types of data and how do they differ from each other? Provide an example of\n",
        "each type of data.**"
      ],
      "metadata": {
        "id": "AOCCkYKg-RON"
      }
    },
    {
      "cell_type": "markdown",
      "source": [
        "Quantitative - Measurable\n",
        "* Discrete - Specific whole number (Ex: Number of students in a class)\n",
        "* Continuous - Can be any value (Ex: Height of a person)\n",
        "\n",
        "\n",
        "Qualitative - Categorical\n",
        "* Nominal - Categories without rank (Ex: Type of a bank account, Type of cars (SUV, Sedan, Pickups etc...))\n",
        "* Ordinal - Categories with Rank (Ex: Grade of student marks (Distinction, first class, second class etc...))"
      ],
      "metadata": {
        "id": "je0rsXeK-dJU"
      }
    },
    {
      "cell_type": "markdown",
      "source": [
        "**4. Categorise the following datasets with respect to quantitative and qualitative data types:**\n",
        "\n",
        "**(i) Grading in exam: A+, A, B+, B, C+, C, D, E**\n",
        "\n",
        "**(ii) Colour of mangoes: yellow, green, orange, red**\n",
        "\n",
        "**(iii) Height data of a class: [178.9, 179, 179.5, 176, 177.2, 178.3, 175.8,...]**\n",
        "\n",
        "**(iv) Number of mangoes exported by a farm: [500, 600, 478, 672, ...]**"
      ],
      "metadata": {
        "id": "Wm3ZVIKU_rQL"
      }
    },
    {
      "cell_type": "markdown",
      "source": [
        "1. Ordinal\n",
        "2. Nominal\n",
        "3. Continuous\n",
        "4. Discrete\n",
        "\n",
        "\n"
      ],
      "metadata": {
        "id": "t4ClpqeV_7yb"
      }
    },
    {
      "cell_type": "markdown",
      "source": [
        "**5. Explain the concept of levels of measurement and give an example of a variable for each level.**"
      ],
      "metadata": {
        "id": "cvd6jQ_vAiVY"
      }
    },
    {
      "cell_type": "markdown",
      "source": [
        "**Nominal Scale:**\n",
        "\n",
        "Categorical and Order doesn't matter\n",
        "\n",
        "Ex: Colours\n",
        "\n",
        "**Ordinal Scale:**\n",
        "\n",
        "Categorical and Rank/Order matters\n",
        "\n",
        "Ex: College Tiers, Types of Country (Developed, Developing, etc..), Ratings of Employee during appraisal,\n",
        "\n",
        "**Interval Scale:**\n",
        "\n",
        "Rank and Order matters, Diff can be measured but not the ratio, doesn't have 0 starting scale\n",
        "\n",
        "Ex: Altitude (Ratio & Difference can be measured, but most of the times ratio won't matter)\n",
        "\n",
        "**Ratio Scale:**\n",
        "\n",
        "Rank and Order matters, Diff can be measured but not the ratio, doesn't have 0 starting scale\n",
        "\n",
        "Ex: Entrance Exam Marks (Neet)"
      ],
      "metadata": {
        "id": "V7jd1oFvApKn"
      }
    },
    {
      "cell_type": "markdown",
      "source": [
        "**6. Why is it important to understand the level of measurement when analyzing data? Provide an\n",
        "example to illustrate your answer.**"
      ],
      "metadata": {
        "id": "n-J1PTLnCij5"
      }
    },
    {
      "cell_type": "markdown",
      "source": [
        "Level of the measurement is important because it tells us what sort of statistical analysis cab be made on a given data. This decides the nature and depth of insights that can be gained from the data.\n"
      ],
      "metadata": {
        "id": "bQEXxwQwCrSl"
      }
    },
    {
      "cell_type": "markdown",
      "source": [
        "**7. How nominal data type is different from ordinal data type.**"
      ],
      "metadata": {
        "id": "4xmJCe_SIeZJ"
      }
    },
    {
      "cell_type": "markdown",
      "source": [
        "Nominal and Ordinal are qualitative type of data (categorical). Nominal doesn't have a rank or priority associated with it whereas Ordinal data has a rank/order or priority associated with it.\n",
        "\n",
        "Ex:\n",
        "*   Nominal (Type of Vehicle based on fuel - Petrol, Diesel, EV)\n",
        "*   Ordinal (Employee Rating (1,2,3,4,5))\n",
        "\n"
      ],
      "metadata": {
        "id": "fNGuS2ePIkCp"
      }
    },
    {
      "cell_type": "markdown",
      "source": [
        "**8. Which type of plot can be used to display data in terms of range?**"
      ],
      "metadata": {
        "id": "Pqm_JpfLJ1cQ"
      }
    },
    {
      "cell_type": "markdown",
      "source": [
        "Bars and Lines"
      ],
      "metadata": {
        "id": "mERqKILrJ38X"
      }
    },
    {
      "cell_type": "markdown",
      "source": [
        "**9. Describe the difference between descriptive and inferential statistics. Give an example of each\n",
        "type of statistics and explain how they are used.**"
      ],
      "metadata": {
        "id": "bnPEmBkAJ7q2"
      }
    },
    {
      "cell_type": "markdown",
      "source": [
        "Descriptive - It is self explanatory. Describes about the data. If we are just organizing and summarising the data, then it is called as descriptive statistics.\n",
        "\n",
        "Ex: Average marks in a subject of a class\n",
        "\n",
        "Inferential - Using data and pointers from the sample, we are forming conclusions.\n",
        "\n",
        "Ex: You will be conducting tests to form conclusions. Like z-test, Hypothesis, P-Value significance. Classic Example is exit poll for election results."
      ],
      "metadata": {
        "id": "FOIhEo0jJ_17"
      }
    },
    {
      "cell_type": "markdown",
      "source": [
        "**10. What are some common measures of central tendency and variability used in statistics? Explain\n",
        "how each measure can be used to describe a dataset.**"
      ],
      "metadata": {
        "id": "Pzp_0X81LBYe"
      }
    },
    {
      "cell_type": "markdown",
      "source": [
        "**Measures of central Tendency - Mean, Median and Mode**\n",
        "\n",
        "The mean (average) of a data set is found by adding all numbers in the data set and then dividing by the number of values in the set. The median is the middle value when a data set is ordered from least to greatest. The mode is the number that occurs most often in a data set\n",
        "\n",
        "**Measures of variability - Variance and Std Dev**\n",
        "\n",
        "Standard deviation is the spread of a group of numbers from the mean. The variance measures the average degree to which each point differs from the mean"
      ],
      "metadata": {
        "id": "HoBPhPtFLDnl"
      }
    }
  ]
}