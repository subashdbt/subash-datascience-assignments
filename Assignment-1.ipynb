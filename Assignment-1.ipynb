{
 "cells": [
  {
   "cell_type": "markdown",
   "id": "cecf3186-7c03-429f-a795-51d70e5cbe59",
   "metadata": {},
   "source": [
    "This is the solution file for assignment given on 09May 2023"
   ]
  },
  {
   "cell_type": "markdown",
   "id": "a8be639d-4ccc-4d1a-8c33-ad2db82e3c6c",
   "metadata": {},
   "source": [
    "Question 1"
   ]
  },
  {
   "cell_type": "code",
   "execution_count": 19,
   "id": "06667ef8-d5f5-406b-b067-29cd7b3e03b1",
   "metadata": {},
   "outputs": [],
   "source": [
    "a=\"Subash\""
   ]
  },
  {
   "cell_type": "code",
   "execution_count": 2,
   "id": "16d1e6b2-b2e5-4ab6-a23b-63f851950e10",
   "metadata": {},
   "outputs": [],
   "source": [
    "b=[1,2,3,\"Subash\"]"
   ]
  },
  {
   "cell_type": "code",
   "execution_count": 3,
   "id": "1861af63-9baa-4c22-96e1-bb39064fe3f5",
   "metadata": {},
   "outputs": [],
   "source": [
    "c=1.267"
   ]
  },
  {
   "cell_type": "code",
   "execution_count": 4,
   "id": "f4a0804c-b84c-4051-8c1a-5895dbd90a5e",
   "metadata": {},
   "outputs": [],
   "source": [
    "d=(1,2,\"subash\")"
   ]
  },
  {
   "cell_type": "markdown",
   "id": "9ba9e9bc-ebfd-4108-97a0-9f1199173857",
   "metadata": {},
   "source": [
    "Answer: Have created 4 variable as requested in the question"
   ]
  },
  {
   "cell_type": "markdown",
   "id": "648eb297-c33b-43b2-b4f1-a5de108773c1",
   "metadata": {},
   "source": [
    "---------------------------------------------------------------------------------------"
   ]
  },
  {
   "cell_type": "markdown",
   "id": "cd8929cc-7d7b-46d3-985a-6c6dcaa10977",
   "metadata": {},
   "source": [
    "Question 2"
   ]
  },
  {
   "cell_type": "code",
   "execution_count": 12,
   "id": "dc7eecbc-e8a3-4329-b0d5-3d6cf5d2059e",
   "metadata": {},
   "outputs": [],
   "source": [
    "var1 = \"\"\n",
    "var2 = \"[ DS , ML , Python]\"\n",
    "var3 = [ \"DS\" , \"ML\" , \"Python\" ]\n",
    "var4 = 1"
   ]
  },
  {
   "cell_type": "code",
   "execution_count": 15,
   "id": "02b2515f-f812-415b-a8c5-a2d4c963702e",
   "metadata": {},
   "outputs": [
    {
     "data": {
      "text/plain": [
       "str"
      ]
     },
     "execution_count": 15,
     "metadata": {},
     "output_type": "execute_result"
    }
   ],
   "source": [
    "type(var1)\n"
   ]
  },
  {
   "cell_type": "code",
   "execution_count": 16,
   "id": "f87980a1-da69-4fbc-b758-1f519beeab8a",
   "metadata": {},
   "outputs": [
    {
     "data": {
      "text/plain": [
       "str"
      ]
     },
     "execution_count": 16,
     "metadata": {},
     "output_type": "execute_result"
    }
   ],
   "source": [
    "type(var2)\n"
   ]
  },
  {
   "cell_type": "code",
   "execution_count": 17,
   "id": "b41e4b66-09f2-4dc3-b8dc-e04351b21a90",
   "metadata": {},
   "outputs": [
    {
     "data": {
      "text/plain": [
       "list"
      ]
     },
     "execution_count": 17,
     "metadata": {},
     "output_type": "execute_result"
    }
   ],
   "source": [
    "type(var3)\n"
   ]
  },
  {
   "cell_type": "code",
   "execution_count": 18,
   "id": "c539d900-97e2-4d9b-92f4-fb21401c54a0",
   "metadata": {},
   "outputs": [
    {
     "data": {
      "text/plain": [
       "int"
      ]
     },
     "execution_count": 18,
     "metadata": {},
     "output_type": "execute_result"
    }
   ],
   "source": [
    "type(var4)"
   ]
  },
  {
   "cell_type": "markdown",
   "id": "ae171ae9-fcfd-4ec9-b7ca-df8dcf744f0a",
   "metadata": {},
   "source": [
    "Answer: var1 is str, var2 is str, var3 is list, var4 is int"
   ]
  },
  {
   "cell_type": "markdown",
   "id": "ca06faf0-f0e6-42c1-a720-1099edf06636",
   "metadata": {},
   "source": [
    "---------------------------------------------------------------------------------------"
   ]
  },
  {
   "cell_type": "markdown",
   "id": "2d53ecc2-04d1-4a59-844c-9e512accd1e6",
   "metadata": {},
   "source": [
    "Question 3"
   ]
  },
  {
   "cell_type": "markdown",
   "id": "fb2f0338-8be2-443e-b9a6-08f156f0d1da",
   "metadata": {},
   "source": [
    "Explain the use of the following operators using an example: / % // **"
   ]
  },
  {
   "cell_type": "markdown",
   "id": "5898cde3-a3c0-47c9-ba3f-d6ee2b66a2d4",
   "metadata": {},
   "source": [
    "Answer:\n",
    "/ -> Division operator - Output is Quotient\n",
    "% -> Modulus Operator - Output is denominator\n",
    "// -> Floor Division - Floor the Quotient\n",
    "** -> Power Operator"
   ]
  },
  {
   "cell_type": "markdown",
   "id": "65c6a60a-705a-48e9-a783-ec4d1cfef893",
   "metadata": {},
   "source": [
    "---------------------------------------------------------------------------------------"
   ]
  },
  {
   "cell_type": "markdown",
   "id": "1855c870-9a77-41c6-9004-caa11a1b83d3",
   "metadata": {},
   "source": [
    "Question 4"
   ]
  },
  {
   "cell_type": "markdown",
   "id": "b4c43d29-f6cf-4d0b-98b2-767621a5ecea",
   "metadata": {},
   "source": [
    "Create a list of length 10 of your choice containing multiple types of data. Using for loop print the\n",
    "element and its data type."
   ]
  },
  {
   "cell_type": "code",
   "execution_count": null,
   "id": "67dd1237-2daa-4608-8144-4f2b29efa73b",
   "metadata": {},
   "outputs": [
    {
     "name": "stdout",
     "output_type": "stream",
     "text": [
      "1\n",
      "<class 'int'>\n",
      "2\n",
      "<class 'int'>\n",
      "3\n",
      "<class 'int'>\n",
      "Subash\n",
      "<class 'str'>\n",
      "(1+1j)\n",
      "<class 'complex'>\n",
      "True\n",
      "<class 'bool'>\n",
      "False\n",
      "<class 'bool'>\n",
      "8\n",
      "<class 'int'>\n",
      "9\n",
      "<class 'int'>\n",
      "10\n",
      "<class 'int'>\n"
     ]
    }
   ],
   "source": [
    "l=[1,2,3,\"Subash\",1+1j,True,False,8,9,10]\n",
    "for i in l:\n",
    "    print(i)\n",
    "    print(type(i))"
   ]
  },
  {
   "cell_type": "markdown",
   "id": "553fc8f8-a664-461a-b34b-2cfb11146637",
   "metadata": {},
   "source": [
    "Answer: Created a list with length 10. Printed the elements and it's datatype as well"
   ]
  },
  {
   "cell_type": "markdown",
   "id": "a98a53d4-3a52-41c0-b051-b86e8cee0ef4",
   "metadata": {},
   "source": [
    "------------------------------------------------------------------------------------------"
   ]
  },
  {
   "cell_type": "markdown",
   "id": "5f3a9ac4-f32c-4554-812b-4abc738047bb",
   "metadata": {},
   "source": [
    "Question 5"
   ]
  },
  {
   "cell_type": "markdown",
   "id": "adf977fe-9e82-4851-9b2d-6eab70d856c6",
   "metadata": {},
   "source": [
    "Using a while loop, verify if the number A is purely divisible by number B and if so then how many\n",
    "times it can be divisible."
   ]
  },
  {
   "cell_type": "code",
   "execution_count": 24,
   "id": "78e61f47-b351-4941-8eb5-9084eda814dc",
   "metadata": {},
   "outputs": [
    {
     "name": "stdin",
     "output_type": "stream",
     "text": [
      " 10\n",
      " 5\n"
     ]
    },
    {
     "name": "stdout",
     "output_type": "stream",
     "text": [
      "10 is purely divisible by 5\n",
      "2.0\n"
     ]
    }
   ],
   "source": [
    "a=int(input())\n",
    "b=int(input())\n",
    "while a%b==0:\n",
    "    print(a,\"is purely divisible by\",b)\n",
    "    print(a/b)\n",
    "    break"
   ]
  },
  {
   "cell_type": "markdown",
   "id": "3fc2e328-5f90-40f9-9cc1-a5a77c801b7d",
   "metadata": {},
   "source": [
    "Answer: Using a while loop, verified if the number A is purely divisible by number B and shown how many\n",
    "times it can be divisible."
   ]
  },
  {
   "cell_type": "markdown",
   "id": "a72c0b56-9c25-443a-8b5c-a600cab9bf6d",
   "metadata": {},
   "source": [
    "--------------------------------------------------------------------------------------------"
   ]
  },
  {
   "cell_type": "markdown",
   "id": "dd5171df-84cc-43f1-9d29-15a0884623be",
   "metadata": {},
   "source": [
    "Question 6"
   ]
  },
  {
   "cell_type": "markdown",
   "id": "567dd87d-fd75-4391-a222-a8d74b8fb310",
   "metadata": {},
   "source": [
    "Create a list containing 25 int type data. Using for loop and if-else condition print if the element is\n",
    "divisible by 3 or not."
   ]
  },
  {
   "cell_type": "code",
   "execution_count": 27,
   "id": "a9a4ce67-a1e7-47b3-b78d-2976885d1df3",
   "metadata": {},
   "outputs": [
    {
     "name": "stdout",
     "output_type": "stream",
     "text": [
      "[0, 1, 2, 3, 4, 5, 6, 7, 8, 9, 10, 11, 12, 13, 14, 15, 16, 17, 18, 19, 20, 21, 22, 23, 24]\n",
      "0 is divisible by 3\n",
      "1 is not divisible by 3\n",
      "2 is not divisible by 3\n",
      "3 is divisible by 3\n",
      "4 is not divisible by 3\n",
      "5 is not divisible by 3\n",
      "6 is divisible by 3\n",
      "7 is not divisible by 3\n",
      "8 is not divisible by 3\n",
      "9 is divisible by 3\n",
      "10 is not divisible by 3\n",
      "11 is not divisible by 3\n",
      "12 is divisible by 3\n",
      "13 is not divisible by 3\n",
      "14 is not divisible by 3\n",
      "15 is divisible by 3\n",
      "16 is not divisible by 3\n",
      "17 is not divisible by 3\n",
      "18 is divisible by 3\n",
      "19 is not divisible by 3\n",
      "20 is not divisible by 3\n",
      "21 is divisible by 3\n",
      "22 is not divisible by 3\n",
      "23 is not divisible by 3\n",
      "24 is divisible by 3\n"
     ]
    }
   ],
   "source": [
    "l=list(range(25))\n",
    "print(l)\n",
    "for i in l:\n",
    "    if i%3 == 0:\n",
    "        print(i,\"is divisible by 3\")\n",
    "    else:\n",
    "        print(i,\"is not divisible by 3\")"
   ]
  },
  {
   "cell_type": "markdown",
   "id": "160d487e-bc15-4643-8b23-d748adaa9d6c",
   "metadata": {},
   "source": [
    "Answer: Created a list containing 25 int type data. Using for loop and if-else condition printed if the element is divisible by 3 or not."
   ]
  },
  {
   "cell_type": "markdown",
   "id": "e744ce46-75fa-46dc-b4de-d447d497b8e1",
   "metadata": {},
   "source": [
    "----------------------------------------------------------------------------------------------"
   ]
  },
  {
   "cell_type": "markdown",
   "id": "2b10695b-85ea-42e3-ba09-4e9be8df26e1",
   "metadata": {},
   "source": [
    "Question 7"
   ]
  },
  {
   "cell_type": "markdown",
   "id": "8f230c49-9445-41b5-b5ba-06df9ebd0253",
   "metadata": {},
   "source": [
    "What do you understand about mutable and immutable data types? Give examples for both showing\n",
    "this property."
   ]
  },
  {
   "cell_type": "code",
   "execution_count": 29,
   "id": "080d1b95-65f1-458b-994b-1f3b9cc88115",
   "metadata": {},
   "outputs": [],
   "source": [
    "a=[1,2,3,\"Subash\"]"
   ]
  },
  {
   "cell_type": "code",
   "execution_count": 31,
   "id": "54964190-c35d-43bc-ac5b-9df73f96e183",
   "metadata": {},
   "outputs": [
    {
     "data": {
      "text/plain": [
       "2"
      ]
     },
     "execution_count": 31,
     "metadata": {},
     "output_type": "execute_result"
    }
   ],
   "source": [
    "a[1]"
   ]
  },
  {
   "cell_type": "code",
   "execution_count": 32,
   "id": "68ece8ec-739b-4e9d-bf0f-aaefcd9635f0",
   "metadata": {},
   "outputs": [],
   "source": [
    "a[1]=4"
   ]
  },
  {
   "cell_type": "code",
   "execution_count": 33,
   "id": "07d5cb1f-e8c2-47b1-8689-646194869c13",
   "metadata": {},
   "outputs": [
    {
     "data": {
      "text/plain": [
       "4"
      ]
     },
     "execution_count": 33,
     "metadata": {},
     "output_type": "execute_result"
    }
   ],
   "source": [
    "a[1]"
   ]
  },
  {
   "cell_type": "code",
   "execution_count": 34,
   "id": "97a24903-072a-4f9c-a742-d3e9894b54ff",
   "metadata": {},
   "outputs": [
    {
     "data": {
      "text/plain": [
       "'Subash'"
      ]
     },
     "execution_count": 34,
     "metadata": {},
     "output_type": "execute_result"
    }
   ],
   "source": [
    "a=\"Subash\"\n",
    "a"
   ]
  },
  {
   "cell_type": "code",
   "execution_count": 35,
   "id": "e82c6dea-0764-497d-b5d1-819f7005a4f5",
   "metadata": {},
   "outputs": [
    {
     "data": {
      "text/plain": [
       "'u'"
      ]
     },
     "execution_count": 35,
     "metadata": {},
     "output_type": "execute_result"
    }
   ],
   "source": [
    "a[1]"
   ]
  },
  {
   "cell_type": "code",
   "execution_count": 36,
   "id": "1ae95b8d-45e9-451a-8826-26b874a32e74",
   "metadata": {},
   "outputs": [
    {
     "ename": "TypeError",
     "evalue": "'str' object does not support item assignment",
     "output_type": "error",
     "traceback": [
      "\u001b[0;31m---------------------------------------------------------------------------\u001b[0m",
      "\u001b[0;31mTypeError\u001b[0m                                 Traceback (most recent call last)",
      "Cell \u001b[0;32mIn[36], line 1\u001b[0m\n\u001b[0;32m----> 1\u001b[0m \u001b[43ma\u001b[49m\u001b[43m[\u001b[49m\u001b[38;5;241;43m1\u001b[39;49m\u001b[43m]\u001b[49m \u001b[38;5;241m=\u001b[39m \u001b[38;5;124m'\u001b[39m\u001b[38;5;124ma\u001b[39m\u001b[38;5;124m'\u001b[39m\n",
      "\u001b[0;31mTypeError\u001b[0m: 'str' object does not support item assignment"
     ]
    }
   ],
   "source": [
    "a[1] = 'a'"
   ]
  },
  {
   "cell_type": "markdown",
   "id": "0e6270ff-a794-4d86-b6dc-3406cf734d98",
   "metadata": {},
   "source": [
    "Answer: \n",
    "Mutable means elements within the variable can be changed - Ex: a[1] in list a\n",
    "Immutable means elements within the variable cannot be changed - Ex: a[1] in string a"
   ]
  },
  {
   "cell_type": "markdown",
   "id": "31dc5599-6a07-40f9-9f78-d692cb4cde94",
   "metadata": {},
   "source": [
    "----------------------------------------------------------------------------------------"
   ]
  },
  {
   "cell_type": "code",
   "execution_count": null,
   "id": "76407cf9-724d-4ef3-9562-7ac1dd3289b8",
   "metadata": {},
   "outputs": [],
   "source": []
  }
 ],
 "metadata": {
  "kernelspec": {
   "display_name": "Python 3 (ipykernel)",
   "language": "python",
   "name": "python3"
  },
  "language_info": {
   "codemirror_mode": {
    "name": "ipython",
    "version": 3
   },
   "file_extension": ".py",
   "mimetype": "text/x-python",
   "name": "python",
   "nbconvert_exporter": "python",
   "pygments_lexer": "ipython3",
   "version": "3.10.8"
  }
 },
 "nbformat": 4,
 "nbformat_minor": 5
}
